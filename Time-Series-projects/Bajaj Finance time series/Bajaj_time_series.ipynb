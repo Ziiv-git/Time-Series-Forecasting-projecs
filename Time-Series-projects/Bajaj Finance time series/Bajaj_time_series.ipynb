{
  "nbformat": 4,
  "nbformat_minor": 0,
  "metadata": {
    "colab": {
      "name": "Bajaj-time-series.ipynb",
      "provenance": []
    },
    "kernelspec": {
      "name": "python3",
      "display_name": "Python 3"
    },
    "language_info": {
      "name": "python"
    }
  },
  "cells": [
    {
      "cell_type": "markdown",
      "metadata": {
        "id": "NK17xr0d4UqH"
      },
      "source": [
        "# Bajaj Finance Time series forecasting"
      ]
    },
    {
      "cell_type": "markdown",
      "metadata": {
        "id": "3-DavxWJ5TVu"
      },
      "source": [
        "## Pre-processing"
      ]
    },
    {
      "cell_type": "code",
      "metadata": {
        "id": "iSSr_dFg4Ez_"
      },
      "source": [
        "# importing necessary libraries \n",
        "import pandas as pd\n",
        "import numpy as np "
      ],
      "execution_count": 2,
      "outputs": []
    },
    {
      "cell_type": "code",
      "metadata": {
        "colab": {
          "base_uri": "https://localhost:8080/",
          "height": 326
        },
        "id": "xoQus2hz4knG",
        "outputId": "fbeff31b-131c-4864-976e-092015711fb0"
      },
      "source": [
        "# reading the dataset \n",
        "df = pd.read_csv(\"/content/BAJFINANCE.csv\")\n",
        "df.sample(5)"
      ],
      "execution_count": 12,
      "outputs": [
        {
          "output_type": "execute_result",
          "data": {
            "text/html": [
              "<div>\n",
              "<style scoped>\n",
              "    .dataframe tbody tr th:only-of-type {\n",
              "        vertical-align: middle;\n",
              "    }\n",
              "\n",
              "    .dataframe tbody tr th {\n",
              "        vertical-align: top;\n",
              "    }\n",
              "\n",
              "    .dataframe thead th {\n",
              "        text-align: right;\n",
              "    }\n",
              "</style>\n",
              "<table border=\"1\" class=\"dataframe\">\n",
              "  <thead>\n",
              "    <tr style=\"text-align: right;\">\n",
              "      <th></th>\n",
              "      <th>Date</th>\n",
              "      <th>Symbol</th>\n",
              "      <th>Series</th>\n",
              "      <th>Prev Close</th>\n",
              "      <th>Open</th>\n",
              "      <th>High</th>\n",
              "      <th>Low</th>\n",
              "      <th>Last</th>\n",
              "      <th>Close</th>\n",
              "      <th>VWAP</th>\n",
              "      <th>Volume</th>\n",
              "      <th>Turnover</th>\n",
              "      <th>Trades</th>\n",
              "      <th>Deliverable Volume</th>\n",
              "      <th>%Deliverble</th>\n",
              "    </tr>\n",
              "  </thead>\n",
              "  <tbody>\n",
              "    <tr>\n",
              "      <th>2781</th>\n",
              "      <td>2011-06-03</td>\n",
              "      <td>BAJFINANCE</td>\n",
              "      <td>EQ</td>\n",
              "      <td>633.45</td>\n",
              "      <td>625.15</td>\n",
              "      <td>637.80</td>\n",
              "      <td>620.00</td>\n",
              "      <td>623.0</td>\n",
              "      <td>625.00</td>\n",
              "      <td>625.09</td>\n",
              "      <td>51427</td>\n",
              "      <td>3.214631e+12</td>\n",
              "      <td>135.0</td>\n",
              "      <td>50912.0</td>\n",
              "      <td>0.9900</td>\n",
              "    </tr>\n",
              "    <tr>\n",
              "      <th>3708</th>\n",
              "      <td>2015-02-27</td>\n",
              "      <td>BAJFINANCE</td>\n",
              "      <td>EQ</td>\n",
              "      <td>4096.85</td>\n",
              "      <td>4110.05</td>\n",
              "      <td>4159.90</td>\n",
              "      <td>4061.05</td>\n",
              "      <td>4100.5</td>\n",
              "      <td>4107.10</td>\n",
              "      <td>4093.31</td>\n",
              "      <td>28081</td>\n",
              "      <td>1.149443e+13</td>\n",
              "      <td>4203.0</td>\n",
              "      <td>22050.0</td>\n",
              "      <td>0.7852</td>\n",
              "    </tr>\n",
              "    <tr>\n",
              "      <th>4640</th>\n",
              "      <td>2018-12-05</td>\n",
              "      <td>BAJFINANCE</td>\n",
              "      <td>EQ</td>\n",
              "      <td>2543.55</td>\n",
              "      <td>2539.90</td>\n",
              "      <td>2539.90</td>\n",
              "      <td>2470.30</td>\n",
              "      <td>2508.0</td>\n",
              "      <td>2494.10</td>\n",
              "      <td>2504.04</td>\n",
              "      <td>1327031</td>\n",
              "      <td>3.322939e+14</td>\n",
              "      <td>62196.0</td>\n",
              "      <td>348468.0</td>\n",
              "      <td>0.2626</td>\n",
              "    </tr>\n",
              "    <tr>\n",
              "      <th>712</th>\n",
              "      <td>2003-02-18</td>\n",
              "      <td>BAJAUTOFIN</td>\n",
              "      <td>EQ</td>\n",
              "      <td>50.60</td>\n",
              "      <td>50.45</td>\n",
              "      <td>51.15</td>\n",
              "      <td>50.45</td>\n",
              "      <td>50.6</td>\n",
              "      <td>50.80</td>\n",
              "      <td>50.87</td>\n",
              "      <td>13793</td>\n",
              "      <td>7.016726e+10</td>\n",
              "      <td>NaN</td>\n",
              "      <td>9474.0</td>\n",
              "      <td>0.6869</td>\n",
              "    </tr>\n",
              "    <tr>\n",
              "      <th>4422</th>\n",
              "      <td>2018-01-15</td>\n",
              "      <td>BAJFINANCE</td>\n",
              "      <td>EQ</td>\n",
              "      <td>1770.10</td>\n",
              "      <td>1771.00</td>\n",
              "      <td>1794.90</td>\n",
              "      <td>1733.00</td>\n",
              "      <td>1737.0</td>\n",
              "      <td>1738.15</td>\n",
              "      <td>1758.11</td>\n",
              "      <td>847037</td>\n",
              "      <td>1.489187e+14</td>\n",
              "      <td>33803.0</td>\n",
              "      <td>470863.0</td>\n",
              "      <td>0.5559</td>\n",
              "    </tr>\n",
              "  </tbody>\n",
              "</table>\n",
              "</div>"
            ],
            "text/plain": [
              "            Date      Symbol Series  ...   Trades  Deliverable Volume  %Deliverble\n",
              "2781  2011-06-03  BAJFINANCE     EQ  ...    135.0             50912.0       0.9900\n",
              "3708  2015-02-27  BAJFINANCE     EQ  ...   4203.0             22050.0       0.7852\n",
              "4640  2018-12-05  BAJFINANCE     EQ  ...  62196.0            348468.0       0.2626\n",
              "712   2003-02-18  BAJAUTOFIN     EQ  ...      NaN              9474.0       0.6869\n",
              "4422  2018-01-15  BAJFINANCE     EQ  ...  33803.0            470863.0       0.5559\n",
              "\n",
              "[5 rows x 15 columns]"
            ]
          },
          "metadata": {
            "tags": []
          },
          "execution_count": 12
        }
      ]
    },
    {
      "cell_type": "code",
      "metadata": {
        "colab": {
          "base_uri": "https://localhost:8080/"
        },
        "id": "VUVTgIt349J-",
        "outputId": "6849eca6-7ae6-41f0-e29d-421e1a3c94a8"
      },
      "source": [
        "df.shape"
      ],
      "execution_count": 13,
      "outputs": [
        {
          "output_type": "execute_result",
          "data": {
            "text/plain": [
              "(5070, 15)"
            ]
          },
          "metadata": {
            "tags": []
          },
          "execution_count": 13
        }
      ]
    },
    {
      "cell_type": "code",
      "metadata": {
        "id": "RmYRRi_x4sSt"
      },
      "source": [
        "# setting date as index \n",
        "df.set_index(\"Date\", inplace=True)"
      ],
      "execution_count": 14,
      "outputs": []
    },
    {
      "cell_type": "code",
      "metadata": {
        "colab": {
          "base_uri": "https://localhost:8080/"
        },
        "id": "U7GhX3SC4_kF",
        "outputId": "7eeead2c-de7f-4cfd-fec1-082c8db677ed"
      },
      "source": [
        "df.dtypes"
      ],
      "execution_count": 15,
      "outputs": [
        {
          "output_type": "execute_result",
          "data": {
            "text/plain": [
              "Symbol                 object\n",
              "Series                 object\n",
              "Prev Close            float64\n",
              "Open                  float64\n",
              "High                  float64\n",
              "Low                   float64\n",
              "Last                  float64\n",
              "Close                 float64\n",
              "VWAP                  float64\n",
              "Volume                  int64\n",
              "Turnover              float64\n",
              "Trades                float64\n",
              "Deliverable Volume    float64\n",
              "%Deliverble           float64\n",
              "dtype: object"
            ]
          },
          "metadata": {
            "tags": []
          },
          "execution_count": 15
        }
      ]
    },
    {
      "cell_type": "code",
      "metadata": {
        "colab": {
          "base_uri": "https://localhost:8080/",
          "height": 458
        },
        "id": "KvPLTR975LiN",
        "outputId": "b8ed651f-8607-438f-f5c8-aa8e5ae4c899"
      },
      "source": [
        "df.describe().T"
      ],
      "execution_count": 16,
      "outputs": [
        {
          "output_type": "execute_result",
          "data": {
            "text/html": [
              "<div>\n",
              "<style scoped>\n",
              "    .dataframe tbody tr th:only-of-type {\n",
              "        vertical-align: middle;\n",
              "    }\n",
              "\n",
              "    .dataframe tbody tr th {\n",
              "        vertical-align: top;\n",
              "    }\n",
              "\n",
              "    .dataframe thead th {\n",
              "        text-align: right;\n",
              "    }\n",
              "</style>\n",
              "<table border=\"1\" class=\"dataframe\">\n",
              "  <thead>\n",
              "    <tr style=\"text-align: right;\">\n",
              "      <th></th>\n",
              "      <th>count</th>\n",
              "      <th>mean</th>\n",
              "      <th>std</th>\n",
              "      <th>min</th>\n",
              "      <th>25%</th>\n",
              "      <th>50%</th>\n",
              "      <th>75%</th>\n",
              "      <th>max</th>\n",
              "    </tr>\n",
              "  </thead>\n",
              "  <tbody>\n",
              "    <tr>\n",
              "      <th>Prev Close</th>\n",
              "      <td>5070.0</td>\n",
              "      <td>1.311476e+03</td>\n",
              "      <td>1.782013e+03</td>\n",
              "      <td>2.450000e+01</td>\n",
              "      <td>1.054000e+02</td>\n",
              "      <td>5.363750e+02</td>\n",
              "      <td>1.757525e+03</td>\n",
              "      <td>1.139330e+04</td>\n",
              "    </tr>\n",
              "    <tr>\n",
              "      <th>Open</th>\n",
              "      <td>5070.0</td>\n",
              "      <td>1.312330e+03</td>\n",
              "      <td>1.781956e+03</td>\n",
              "      <td>2.520000e+01</td>\n",
              "      <td>1.042750e+02</td>\n",
              "      <td>5.349750e+02</td>\n",
              "      <td>1.764012e+03</td>\n",
              "      <td>1.130000e+04</td>\n",
              "    </tr>\n",
              "    <tr>\n",
              "      <th>High</th>\n",
              "      <td>5070.0</td>\n",
              "      <td>1.334301e+03</td>\n",
              "      <td>1.808504e+03</td>\n",
              "      <td>2.520000e+01</td>\n",
              "      <td>1.086250e+02</td>\n",
              "      <td>5.520000e+02</td>\n",
              "      <td>1.784600e+03</td>\n",
              "      <td>1.177000e+04</td>\n",
              "    </tr>\n",
              "    <tr>\n",
              "      <th>Low</th>\n",
              "      <td>5070.0</td>\n",
              "      <td>1.289350e+03</td>\n",
              "      <td>1.753704e+03</td>\n",
              "      <td>2.450000e+01</td>\n",
              "      <td>1.007250e+02</td>\n",
              "      <td>5.221500e+02</td>\n",
              "      <td>1.740550e+03</td>\n",
              "      <td>1.129400e+04</td>\n",
              "    </tr>\n",
              "    <tr>\n",
              "      <th>Last</th>\n",
              "      <td>5070.0</td>\n",
              "      <td>1.312279e+03</td>\n",
              "      <td>1.782393e+03</td>\n",
              "      <td>2.450000e+01</td>\n",
              "      <td>1.069375e+02</td>\n",
              "      <td>5.364000e+02</td>\n",
              "      <td>1.760037e+03</td>\n",
              "      <td>1.138670e+04</td>\n",
              "    </tr>\n",
              "    <tr>\n",
              "      <th>Close</th>\n",
              "      <td>5070.0</td>\n",
              "      <td>1.312155e+03</td>\n",
              "      <td>1.782187e+03</td>\n",
              "      <td>2.450000e+01</td>\n",
              "      <td>1.077250e+02</td>\n",
              "      <td>5.377250e+02</td>\n",
              "      <td>1.757750e+03</td>\n",
              "      <td>1.139330e+04</td>\n",
              "    </tr>\n",
              "    <tr>\n",
              "      <th>VWAP</th>\n",
              "      <td>5070.0</td>\n",
              "      <td>1.312441e+03</td>\n",
              "      <td>1.781825e+03</td>\n",
              "      <td>2.520000e+01</td>\n",
              "      <td>1.066850e+02</td>\n",
              "      <td>5.379900e+02</td>\n",
              "      <td>1.758297e+03</td>\n",
              "      <td>1.149073e+04</td>\n",
              "    </tr>\n",
              "    <tr>\n",
              "      <th>Volume</th>\n",
              "      <td>5070.0</td>\n",
              "      <td>5.060571e+05</td>\n",
              "      <td>1.798886e+06</td>\n",
              "      <td>3.000000e+00</td>\n",
              "      <td>4.697750e+03</td>\n",
              "      <td>1.567200e+04</td>\n",
              "      <td>8.194950e+04</td>\n",
              "      <td>2.596010e+07</td>\n",
              "    </tr>\n",
              "    <tr>\n",
              "      <th>Turnover</th>\n",
              "      <td>5070.0</td>\n",
              "      <td>1.294532e+14</td>\n",
              "      <td>4.906711e+14</td>\n",
              "      <td>1.047000e+07</td>\n",
              "      <td>6.755000e+10</td>\n",
              "      <td>7.783766e+11</td>\n",
              "      <td>2.306237e+13</td>\n",
              "      <td>8.787972e+15</td>\n",
              "    </tr>\n",
              "    <tr>\n",
              "      <th>Trades</th>\n",
              "      <td>2291.0</td>\n",
              "      <td>4.710584e+04</td>\n",
              "      <td>1.015143e+05</td>\n",
              "      <td>2.100000e+01</td>\n",
              "      <td>1.519500e+03</td>\n",
              "      <td>9.603000e+03</td>\n",
              "      <td>4.883600e+04</td>\n",
              "      <td>9.791110e+05</td>\n",
              "    </tr>\n",
              "    <tr>\n",
              "      <th>Deliverable Volume</th>\n",
              "      <td>4624.0</td>\n",
              "      <td>1.419690e+05</td>\n",
              "      <td>3.495895e+05</td>\n",
              "      <td>6.000000e+00</td>\n",
              "      <td>4.745750e+03</td>\n",
              "      <td>1.381950e+04</td>\n",
              "      <td>6.951800e+04</td>\n",
              "      <td>3.690656e+06</td>\n",
              "    </tr>\n",
              "    <tr>\n",
              "      <th>%Deliverble</th>\n",
              "      <td>4624.0</td>\n",
              "      <td>6.437121e-01</td>\n",
              "      <td>2.335220e-01</td>\n",
              "      <td>5.750000e-02</td>\n",
              "      <td>4.786500e-01</td>\n",
              "      <td>6.819500e-01</td>\n",
              "      <td>8.328500e-01</td>\n",
              "      <td>1.000000e+00</td>\n",
              "    </tr>\n",
              "  </tbody>\n",
              "</table>\n",
              "</div>"
            ],
            "text/plain": [
              "                     count          mean  ...           75%           max\n",
              "Prev Close          5070.0  1.311476e+03  ...  1.757525e+03  1.139330e+04\n",
              "Open                5070.0  1.312330e+03  ...  1.764012e+03  1.130000e+04\n",
              "High                5070.0  1.334301e+03  ...  1.784600e+03  1.177000e+04\n",
              "Low                 5070.0  1.289350e+03  ...  1.740550e+03  1.129400e+04\n",
              "Last                5070.0  1.312279e+03  ...  1.760037e+03  1.138670e+04\n",
              "Close               5070.0  1.312155e+03  ...  1.757750e+03  1.139330e+04\n",
              "VWAP                5070.0  1.312441e+03  ...  1.758297e+03  1.149073e+04\n",
              "Volume              5070.0  5.060571e+05  ...  8.194950e+04  2.596010e+07\n",
              "Turnover            5070.0  1.294532e+14  ...  2.306237e+13  8.787972e+15\n",
              "Trades              2291.0  4.710584e+04  ...  4.883600e+04  9.791110e+05\n",
              "Deliverable Volume  4624.0  1.419690e+05  ...  6.951800e+04  3.690656e+06\n",
              "%Deliverble         4624.0  6.437121e-01  ...  8.328500e-01  1.000000e+00\n",
              "\n",
              "[12 rows x 8 columns]"
            ]
          },
          "metadata": {
            "tags": []
          },
          "execution_count": 16
        }
      ]
    },
    {
      "cell_type": "code",
      "metadata": {
        "colab": {
          "base_uri": "https://localhost:8080/"
        },
        "id": "OiLmGvx241lG",
        "outputId": "c3f56ff2-109e-478d-97d9-9ca34f01753c"
      },
      "source": [
        "# checking for null values \n",
        "df.isnull().sum()"
      ],
      "execution_count": 17,
      "outputs": [
        {
          "output_type": "execute_result",
          "data": {
            "text/plain": [
              "Symbol                   0\n",
              "Series                   0\n",
              "Prev Close               0\n",
              "Open                     0\n",
              "High                     0\n",
              "Low                      0\n",
              "Last                     0\n",
              "Close                    0\n",
              "VWAP                     0\n",
              "Volume                   0\n",
              "Turnover                 0\n",
              "Trades                2779\n",
              "Deliverable Volume     446\n",
              "%Deliverble            446\n",
              "dtype: int64"
            ]
          },
          "metadata": {
            "tags": []
          },
          "execution_count": 17
        }
      ]
    },
    {
      "cell_type": "code",
      "metadata": {
        "id": "Xum6TasO5ayt"
      },
      "source": [
        "# dropping the missing values \n",
        "df.dropna(inplace=True)"
      ],
      "execution_count": 18,
      "outputs": []
    },
    {
      "cell_type": "markdown",
      "metadata": {
        "id": "nJSd0UiP5SdM"
      },
      "source": [
        "## Visualization"
      ]
    },
    {
      "cell_type": "code",
      "metadata": {
        "colab": {
          "base_uri": "https://localhost:8080/",
          "height": 300
        },
        "id": "lbpKoVI745ym",
        "outputId": "344aae9d-a74d-4ad1-89d5-c3d96a8b6886"
      },
      "source": [
        "df['VWAP'].plot()"
      ],
      "execution_count": 19,
      "outputs": [
        {
          "output_type": "execute_result",
          "data": {
            "text/plain": [
              "<matplotlib.axes._subplots.AxesSubplot at 0x7f829e799590>"
            ]
          },
          "metadata": {
            "tags": []
          },
          "execution_count": 19
        },
        {
          "output_type": "display_data",
          "data": {
            "image/png": "[encoded data removed]",
            "text/plain": [
              "<Figure size 432x288 with 1 Axes>"
            ]
          },
          "metadata": {
            "tags": [],
            "needs_background": "light"
          }
        }
      ]
    },
    {
      "cell_type": "markdown",
      "metadata": {
        "id": "fhiVFn4t7t39"
      },
      "source": [
        "## Feature Engineering"
      ]
    },
    {
      "cell_type": "code",
      "metadata": {
        "colab": {
          "base_uri": "https://localhost:8080/"
        },
        "id": "G5TxZgp95z1u",
        "outputId": "6d22a37a-44d2-455d-c5ea-45410d1ae553"
      },
      "source": [
        "# chcekpoint by copying the data\n",
        "data = df.copy()\n",
        "\n",
        "data.dtypes"
      ],
      "execution_count": 20,
      "outputs": [
        {
          "output_type": "execute_result",
          "data": {
            "text/plain": [
              "Symbol                 object\n",
              "Series                 object\n",
              "Prev Close            float64\n",
              "Open                  float64\n",
              "High                  float64\n",
              "Low                   float64\n",
              "Last                  float64\n",
              "Close                 float64\n",
              "VWAP                  float64\n",
              "Volume                  int64\n",
              "Turnover              float64\n",
              "Trades                float64\n",
              "Deliverable Volume    float64\n",
              "%Deliverble           float64\n",
              "dtype: object"
            ]
          },
          "metadata": {
            "tags": []
          },
          "execution_count": 20
        }
      ]
    },
    {
      "cell_type": "code",
      "metadata": {
        "colab": {
          "base_uri": "https://localhost:8080/"
        },
        "id": "vbdbyinm6JE-",
        "outputId": "32c4a8b5-5e29-4f28-c541-635a7d1d2e0c"
      },
      "source": [
        "data.columns"
      ],
      "execution_count": 21,
      "outputs": [
        {
          "output_type": "execute_result",
          "data": {
            "text/plain": [
              "Index(['Symbol', 'Series', 'Prev Close', 'Open', 'High', 'Low', 'Last',\n",
              "       'Close', 'VWAP', 'Volume', 'Turnover', 'Trades', 'Deliverable Volume',\n",
              "       '%Deliverble'],\n",
              "      dtype='object')"
            ]
          },
          "metadata": {
            "tags": []
          },
          "execution_count": 21
        }
      ]
    },
    {
      "cell_type": "code",
      "metadata": {
        "id": "i4jRslhd6K-G"
      },
      "source": [
        "# considering features where moving avg and rolling concepts that can be applied\n",
        "lag_features = ['High', \"Low\", 'Volume', 'Turnover', 'Trades']\n",
        "\n",
        "# rolling windows\n",
        "window1 = 3\n",
        "window2 = 7"
      ],
      "execution_count": 22,
      "outputs": []
    },
    {
      "cell_type": "code",
      "metadata": {
        "id": "wjFxljx26or-"
      },
      "source": [
        "for feature in lag_features:\n",
        "  data[feature+'rolling_mean_3'] = data[feature].rolling(window=window1).mean()\n",
        "  data[feature+'rolling_mean_7'] = data[feature].rolling(window=window2).mean()\n",
        "  data[feature+'rolling_std_3'] = data[feature].rolling(window=window1).std()\n",
        "  data[feature+'rolling_std_7'] = data[feature].rolling(window=window2).std()"
      ],
      "execution_count": 40,
      "outputs": []
    },
    {
      "cell_type": "code",
      "metadata": {
        "colab": {
          "base_uri": "https://localhost:8080/",
          "height": 357
        },
        "id": "jgfdiT1f7LT9",
        "outputId": "5c1acbbc-e9ad-4a89-f615-ca3e8d1de740"
      },
      "source": [
        "data.head()"
      ],
      "execution_count": 41,
      "outputs": [
        {
          "output_type": "execute_result",
          "data": {
            "text/html": [
              "<div>\n",
              "<style scoped>\n",
              "    .dataframe tbody tr th:only-of-type {\n",
              "        vertical-align: middle;\n",
              "    }\n",
              "\n",
              "    .dataframe tbody tr th {\n",
              "        vertical-align: top;\n",
              "    }\n",
              "\n",
              "    .dataframe thead th {\n",
              "        text-align: right;\n",
              "    }\n",
              "</style>\n",
              "<table border=\"1\" class=\"dataframe\">\n",
              "  <thead>\n",
              "    <tr style=\"text-align: right;\">\n",
              "      <th></th>\n",
              "      <th>Symbol</th>\n",
              "      <th>Series</th>\n",
              "      <th>Prev Close</th>\n",
              "      <th>Open</th>\n",
              "      <th>High</th>\n",
              "      <th>Low</th>\n",
              "      <th>Last</th>\n",
              "      <th>Close</th>\n",
              "      <th>VWAP</th>\n",
              "      <th>Volume</th>\n",
              "      <th>Turnover</th>\n",
              "      <th>Trades</th>\n",
              "      <th>Deliverable Volume</th>\n",
              "      <th>%Deliverble</th>\n",
              "      <th>Highrolling_mean_3</th>\n",
              "      <th>Highrolling_mean_7</th>\n",
              "      <th>Highrolling_std_3</th>\n",
              "      <th>Lowrolling_mean_3</th>\n",
              "      <th>Lowrolling_mean_7</th>\n",
              "      <th>Lowrolling_std_3</th>\n",
              "      <th>Volumerolling_mean_3</th>\n",
              "      <th>Volumerolling_mean_7</th>\n",
              "      <th>Volumerolling_std_3</th>\n",
              "      <th>Turnoverrolling_mean_3</th>\n",
              "      <th>Turnoverrolling_mean_7</th>\n",
              "      <th>Turnoverrolling_std_3</th>\n",
              "      <th>Tradesrolling_mean_3</th>\n",
              "      <th>Tradesrolling_mean_7</th>\n",
              "      <th>Tradesrolling_std_3</th>\n",
              "      <th>Highrolling_std_7</th>\n",
              "      <th>Lowrolling_std_7</th>\n",
              "      <th>Volumerolling_std_7</th>\n",
              "      <th>Turnoverrolling_std_7</th>\n",
              "      <th>Tradesrolling_std_7</th>\n",
              "    </tr>\n",
              "    <tr>\n",
              "      <th>Date</th>\n",
              "      <th></th>\n",
              "      <th></th>\n",
              "      <th></th>\n",
              "      <th></th>\n",
              "      <th></th>\n",
              "      <th></th>\n",
              "      <th></th>\n",
              "      <th></th>\n",
              "      <th></th>\n",
              "      <th></th>\n",
              "      <th></th>\n",
              "      <th></th>\n",
              "      <th></th>\n",
              "      <th></th>\n",
              "      <th></th>\n",
              "      <th></th>\n",
              "      <th></th>\n",
              "      <th></th>\n",
              "      <th></th>\n",
              "      <th></th>\n",
              "      <th></th>\n",
              "      <th></th>\n",
              "      <th></th>\n",
              "      <th></th>\n",
              "      <th></th>\n",
              "      <th></th>\n",
              "      <th></th>\n",
              "      <th></th>\n",
              "      <th></th>\n",
              "      <th></th>\n",
              "      <th></th>\n",
              "      <th></th>\n",
              "      <th></th>\n",
              "      <th></th>\n",
              "    </tr>\n",
              "  </thead>\n",
              "  <tbody>\n",
              "    <tr>\n",
              "      <th>2011-06-09</th>\n",
              "      <td>BAJFINANCE</td>\n",
              "      <td>EQ</td>\n",
              "      <td>635.60</td>\n",
              "      <td>639.80</td>\n",
              "      <td>647.00</td>\n",
              "      <td>630.00</td>\n",
              "      <td>630.00</td>\n",
              "      <td>631.10</td>\n",
              "      <td>638.27</td>\n",
              "      <td>31252</td>\n",
              "      <td>1.994715e+12</td>\n",
              "      <td>894.0</td>\n",
              "      <td>18626.0</td>\n",
              "      <td>0.5960</td>\n",
              "      <td>NaN</td>\n",
              "      <td>NaN</td>\n",
              "      <td>NaN</td>\n",
              "      <td>NaN</td>\n",
              "      <td>NaN</td>\n",
              "      <td>NaN</td>\n",
              "      <td>NaN</td>\n",
              "      <td>NaN</td>\n",
              "      <td>NaN</td>\n",
              "      <td>NaN</td>\n",
              "      <td>NaN</td>\n",
              "      <td>NaN</td>\n",
              "      <td>NaN</td>\n",
              "      <td>NaN</td>\n",
              "      <td>NaN</td>\n",
              "      <td>NaN</td>\n",
              "      <td>NaN</td>\n",
              "      <td>NaN</td>\n",
              "      <td>NaN</td>\n",
              "      <td>NaN</td>\n",
              "    </tr>\n",
              "    <tr>\n",
              "      <th>2011-06-10</th>\n",
              "      <td>BAJFINANCE</td>\n",
              "      <td>EQ</td>\n",
              "      <td>631.10</td>\n",
              "      <td>641.85</td>\n",
              "      <td>648.25</td>\n",
              "      <td>618.55</td>\n",
              "      <td>621.10</td>\n",
              "      <td>622.20</td>\n",
              "      <td>634.16</td>\n",
              "      <td>30885</td>\n",
              "      <td>1.958588e+12</td>\n",
              "      <td>1360.0</td>\n",
              "      <td>12656.0</td>\n",
              "      <td>0.4098</td>\n",
              "      <td>NaN</td>\n",
              "      <td>NaN</td>\n",
              "      <td>NaN</td>\n",
              "      <td>NaN</td>\n",
              "      <td>NaN</td>\n",
              "      <td>NaN</td>\n",
              "      <td>NaN</td>\n",
              "      <td>NaN</td>\n",
              "      <td>NaN</td>\n",
              "      <td>NaN</td>\n",
              "      <td>NaN</td>\n",
              "      <td>NaN</td>\n",
              "      <td>NaN</td>\n",
              "      <td>NaN</td>\n",
              "      <td>NaN</td>\n",
              "      <td>NaN</td>\n",
              "      <td>NaN</td>\n",
              "      <td>NaN</td>\n",
              "      <td>NaN</td>\n",
              "      <td>NaN</td>\n",
              "    </tr>\n",
              "    <tr>\n",
              "      <th>2011-06-13</th>\n",
              "      <td>BAJFINANCE</td>\n",
              "      <td>EQ</td>\n",
              "      <td>622.20</td>\n",
              "      <td>616.00</td>\n",
              "      <td>627.85</td>\n",
              "      <td>616.00</td>\n",
              "      <td>622.75</td>\n",
              "      <td>624.95</td>\n",
              "      <td>622.92</td>\n",
              "      <td>3981</td>\n",
              "      <td>2.479856e+11</td>\n",
              "      <td>250.0</td>\n",
              "      <td>1745.0</td>\n",
              "      <td>0.4383</td>\n",
              "      <td>641.033333</td>\n",
              "      <td>NaN</td>\n",
              "      <td>11.434196</td>\n",
              "      <td>621.516667</td>\n",
              "      <td>NaN</td>\n",
              "      <td>7.456597</td>\n",
              "      <td>22039.333333</td>\n",
              "      <td>NaN</td>\n",
              "      <td>15640.051929</td>\n",
              "      <td>1.400430e+12</td>\n",
              "      <td>NaN</td>\n",
              "      <td>9.982094e+11</td>\n",
              "      <td>834.666667</td>\n",
              "      <td>NaN</td>\n",
              "      <td>557.373603</td>\n",
              "      <td>NaN</td>\n",
              "      <td>NaN</td>\n",
              "      <td>NaN</td>\n",
              "      <td>NaN</td>\n",
              "      <td>NaN</td>\n",
              "    </tr>\n",
              "    <tr>\n",
              "      <th>2011-06-14</th>\n",
              "      <td>BAJFINANCE</td>\n",
              "      <td>EQ</td>\n",
              "      <td>624.95</td>\n",
              "      <td>625.00</td>\n",
              "      <td>628.95</td>\n",
              "      <td>619.95</td>\n",
              "      <td>621.20</td>\n",
              "      <td>622.10</td>\n",
              "      <td>625.35</td>\n",
              "      <td>5597</td>\n",
              "      <td>3.500088e+11</td>\n",
              "      <td>198.0</td>\n",
              "      <td>3717.0</td>\n",
              "      <td>0.6641</td>\n",
              "      <td>635.016667</td>\n",
              "      <td>NaN</td>\n",
              "      <td>11.473593</td>\n",
              "      <td>618.166667</td>\n",
              "      <td>NaN</td>\n",
              "      <td>2.002707</td>\n",
              "      <td>13487.666667</td>\n",
              "      <td>NaN</td>\n",
              "      <td>15088.183102</td>\n",
              "      <td>8.521943e+11</td>\n",
              "      <td>NaN</td>\n",
              "      <td>9.595224e+11</td>\n",
              "      <td>602.666667</td>\n",
              "      <td>NaN</td>\n",
              "      <td>656.385050</td>\n",
              "      <td>NaN</td>\n",
              "      <td>NaN</td>\n",
              "      <td>NaN</td>\n",
              "      <td>NaN</td>\n",
              "      <td>NaN</td>\n",
              "    </tr>\n",
              "    <tr>\n",
              "      <th>2011-06-15</th>\n",
              "      <td>BAJFINANCE</td>\n",
              "      <td>EQ</td>\n",
              "      <td>622.10</td>\n",
              "      <td>612.00</td>\n",
              "      <td>623.00</td>\n",
              "      <td>598.10</td>\n",
              "      <td>605.00</td>\n",
              "      <td>601.70</td>\n",
              "      <td>606.90</td>\n",
              "      <td>12590</td>\n",
              "      <td>7.640851e+11</td>\n",
              "      <td>481.0</td>\n",
              "      <td>9021.0</td>\n",
              "      <td>0.7165</td>\n",
              "      <td>626.600000</td>\n",
              "      <td>NaN</td>\n",
              "      <td>3.165833</td>\n",
              "      <td>611.350000</td>\n",
              "      <td>NaN</td>\n",
              "      <td>11.643560</td>\n",
              "      <td>7389.333333</td>\n",
              "      <td>NaN</td>\n",
              "      <td>4575.812970</td>\n",
              "      <td>4.540265e+11</td>\n",
              "      <td>NaN</td>\n",
              "      <td>2.733211e+11</td>\n",
              "      <td>309.666667</td>\n",
              "      <td>NaN</td>\n",
              "      <td>150.639747</td>\n",
              "      <td>NaN</td>\n",
              "      <td>NaN</td>\n",
              "      <td>NaN</td>\n",
              "      <td>NaN</td>\n",
              "      <td>NaN</td>\n",
              "    </tr>\n",
              "  </tbody>\n",
              "</table>\n",
              "</div>"
            ],
            "text/plain": [
              "                Symbol Series  ...  Turnoverrolling_std_7  Tradesrolling_std_7\n",
              "Date                           ...                                            \n",
              "2011-06-09  BAJFINANCE     EQ  ...                    NaN                  NaN\n",
              "2011-06-10  BAJFINANCE     EQ  ...                    NaN                  NaN\n",
              "2011-06-13  BAJFINANCE     EQ  ...                    NaN                  NaN\n",
              "2011-06-14  BAJFINANCE     EQ  ...                    NaN                  NaN\n",
              "2011-06-15  BAJFINANCE     EQ  ...                    NaN                  NaN\n",
              "\n",
              "[5 rows x 34 columns]"
            ]
          },
          "metadata": {
            "tags": []
          },
          "execution_count": 41
        }
      ]
    },
    {
      "cell_type": "code",
      "metadata": {
        "colab": {
          "base_uri": "https://localhost:8080/"
        },
        "id": "Q56c4sGe7SBF",
        "outputId": "dad2d612-25a8-4145-dda0-7663d387398a"
      },
      "source": [
        "data.columns"
      ],
      "execution_count": 42,
      "outputs": [
        {
          "output_type": "execute_result",
          "data": {
            "text/plain": [
              "Index(['Symbol', 'Series', 'Prev Close', 'Open', 'High', 'Low', 'Last',\n",
              "       'Close', 'VWAP', 'Volume', 'Turnover', 'Trades', 'Deliverable Volume',\n",
              "       '%Deliverble', 'Highrolling_mean_3', 'Highrolling_mean_7',\n",
              "       'Highrolling_std_3', 'Lowrolling_mean_3', 'Lowrolling_mean_7',\n",
              "       'Lowrolling_std_3', 'Volumerolling_mean_3', 'Volumerolling_mean_7',\n",
              "       'Volumerolling_std_3', 'Turnoverrolling_mean_3',\n",
              "       'Turnoverrolling_mean_7', 'Turnoverrolling_std_3',\n",
              "       'Tradesrolling_mean_3', 'Tradesrolling_mean_7', 'Tradesrolling_std_3',\n",
              "       'Highrolling_std_7', 'Lowrolling_std_7', 'Volumerolling_std_7',\n",
              "       'Turnoverrolling_std_7', 'Tradesrolling_std_7'],\n",
              "      dtype='object')"
            ]
          },
          "metadata": {
            "tags": []
          },
          "execution_count": 42
        }
      ]
    },
    {
      "cell_type": "code",
      "metadata": {
        "colab": {
          "base_uri": "https://localhost:8080/"
        },
        "id": "cEbHyy1S7W0t",
        "outputId": "ebc1b26f-5641-43e7-c828-471c0c9fc2d9"
      },
      "source": [
        "data.shape"
      ],
      "execution_count": 43,
      "outputs": [
        {
          "output_type": "execute_result",
          "data": {
            "text/plain": [
              "(2285, 34)"
            ]
          },
          "metadata": {
            "tags": []
          },
          "execution_count": 43
        }
      ]
    },
    {
      "cell_type": "code",
      "metadata": {
        "colab": {
          "base_uri": "https://localhost:8080/"
        },
        "id": "QHF4kvaJ7YWN",
        "outputId": "4764560b-c770-4e66-f28a-77ba87e86b9a"
      },
      "source": [
        "data.isnull().sum()"
      ],
      "execution_count": 44,
      "outputs": [
        {
          "output_type": "execute_result",
          "data": {
            "text/plain": [
              "Symbol                    0\n",
              "Series                    0\n",
              "Prev Close                0\n",
              "Open                      0\n",
              "High                      0\n",
              "Low                       0\n",
              "Last                      0\n",
              "Close                     0\n",
              "VWAP                      0\n",
              "Volume                    0\n",
              "Turnover                  0\n",
              "Trades                    0\n",
              "Deliverable Volume        0\n",
              "%Deliverble               0\n",
              "Highrolling_mean_3        2\n",
              "Highrolling_mean_7        6\n",
              "Highrolling_std_3         2\n",
              "Lowrolling_mean_3         2\n",
              "Lowrolling_mean_7         6\n",
              "Lowrolling_std_3          2\n",
              "Volumerolling_mean_3      2\n",
              "Volumerolling_mean_7      6\n",
              "Volumerolling_std_3       2\n",
              "Turnoverrolling_mean_3    2\n",
              "Turnoverrolling_mean_7    6\n",
              "Turnoverrolling_std_3     2\n",
              "Tradesrolling_mean_3      2\n",
              "Tradesrolling_mean_7      6\n",
              "Tradesrolling_std_3       2\n",
              "Highrolling_std_7         6\n",
              "Lowrolling_std_7          6\n",
              "Volumerolling_std_7       6\n",
              "Turnoverrolling_std_7     6\n",
              "Tradesrolling_std_7       6\n",
              "dtype: int64"
            ]
          },
          "metadata": {
            "tags": []
          },
          "execution_count": 44
        }
      ]
    },
    {
      "cell_type": "code",
      "metadata": {
        "id": "IX6SMl0D7gaW"
      },
      "source": [
        "# dropping the missing values\n",
        "data.dropna(inplace=True)"
      ],
      "execution_count": 45,
      "outputs": []
    },
    {
      "cell_type": "markdown",
      "metadata": {
        "id": "oGHBOepE7zMF"
      },
      "source": [
        "## Model Building"
      ]
    },
    {
      "cell_type": "code",
      "metadata": {
        "id": "LaCiBhtc7m_-"
      },
      "source": [
        "ind_features = ['Highrolling_mean_3', 'Highrolling_mean_7',\n",
        "       'Lowrolling_mean_3', 'Lowrolling_mean_7', 'Volumerolling_mean_3',\n",
        "       'Volumerolling_mean_7', 'Turnoverrolling_mean_3',\n",
        "       'Turnoverrolling_mean_7', 'Tradesrolling_mean_3',\n",
        "       'Tradesrolling_mean_7', 'Highrolling_std_3', 'Highrolling_std_7',\n",
        "       'Lowrolling_std_3', 'Lowrolling_std_7', 'Volumerolling_std_3',\n",
        "       'Volumerolling_std_7', 'Turnoverrolling_std_3', 'Turnoverrolling_std_7',\n",
        "       'Tradesrolling_std_3', 'Tradesrolling_std_7']"
      ],
      "execution_count": 46,
      "outputs": []
    },
    {
      "cell_type": "code",
      "metadata": {
        "id": "8ccZGq7E71Tt"
      },
      "source": [
        "train_data = data[0:1800]\n",
        "test_data = data[1800:]"
      ],
      "execution_count": 47,
      "outputs": []
    },
    {
      "cell_type": "code",
      "metadata": {
        "colab": {
          "base_uri": "https://localhost:8080/"
        },
        "id": "7B_Npc-L8OOm",
        "outputId": "21ae79db-f6ce-45f2-af30-7ee0d5696478"
      },
      "source": [
        "!pip install pmdarima"
      ],
      "execution_count": 48,
      "outputs": [
        {
          "output_type": "stream",
          "text": [
            "Requirement already satisfied: pmdarima in /usr/local/lib/python3.7/dist-packages (1.8.2)\n",
            "Requirement already satisfied: pandas>=0.19 in /usr/local/lib/python3.7/dist-packages (from pmdarima) (1.1.5)\n",
            "Requirement already satisfied: setuptools!=50.0.0,>=38.6.0 in /usr/local/lib/python3.7/dist-packages (from pmdarima) (57.0.0)\n",
            "Requirement already satisfied: statsmodels!=0.12.0,>=0.11 in /usr/local/lib/python3.7/dist-packages (from pmdarima) (0.12.2)\n",
            "Requirement already satisfied: Cython!=0.29.18,>=0.29 in /usr/local/lib/python3.7/dist-packages (from pmdarima) (0.29.23)\n",
            "Requirement already satisfied: numpy~=1.19.0 in /usr/local/lib/python3.7/dist-packages (from pmdarima) (1.19.5)\n",
            "Requirement already satisfied: scikit-learn>=0.22 in /usr/local/lib/python3.7/dist-packages (from pmdarima) (0.22.2.post1)\n",
            "Requirement already satisfied: urllib3 in /usr/local/lib/python3.7/dist-packages (from pmdarima) (1.24.3)\n",
            "Requirement already satisfied: joblib>=0.11 in /usr/local/lib/python3.7/dist-packages (from pmdarima) (1.0.1)\n",
            "Requirement already satisfied: scipy>=1.3.2 in /usr/local/lib/python3.7/dist-packages (from pmdarima) (1.4.1)\n",
            "Requirement already satisfied: python-dateutil>=2.7.3 in /usr/local/lib/python3.7/dist-packages (from pandas>=0.19->pmdarima) (2.8.1)\n",
            "Requirement already satisfied: pytz>=2017.2 in /usr/local/lib/python3.7/dist-packages (from pandas>=0.19->pmdarima) (2018.9)\n",
            "Requirement already satisfied: patsy>=0.5 in /usr/local/lib/python3.7/dist-packages (from statsmodels!=0.12.0,>=0.11->pmdarima) (0.5.1)\n",
            "Requirement already satisfied: six>=1.5 in /usr/local/lib/python3.7/dist-packages (from python-dateutil>=2.7.3->pandas>=0.19->pmdarima) (1.15.0)\n"
          ],
          "name": "stdout"
        }
      ]
    },
    {
      "cell_type": "code",
      "metadata": {
        "id": "KDTu-GH-8Aq-"
      },
      "source": [
        "from pmdarima import auto_arima\n",
        "import warnings\n",
        "warnings.filterwarnings(\"ignore\")"
      ],
      "execution_count": 49,
      "outputs": []
    },
    {
      "cell_type": "code",
      "metadata": {
        "colab": {
          "base_uri": "https://localhost:8080/"
        },
        "id": "DJjvWRiu8M91",
        "outputId": "71ce5df4-f984-420d-998e-2c3d40523155"
      },
      "source": [
        "model = auto_arima(y=train_data['VWAP'], exogenous=train_data[ind_features], trace=True)"
      ],
      "execution_count": 50,
      "outputs": [
        {
          "output_type": "stream",
          "text": [
            "Performing stepwise search to minimize aic\n",
            " ARIMA(2,0,2)(0,0,0)[0] intercept   : AIC=20932.902, Time=6.80 sec\n",
            " ARIMA(0,0,0)(0,0,0)[0] intercept   : AIC=20926.540, Time=3.37 sec\n",
            " ARIMA(1,0,0)(0,0,0)[0] intercept   : AIC=20927.674, Time=3.45 sec\n",
            " ARIMA(0,0,1)(0,0,0)[0] intercept   : AIC=20927.646, Time=4.86 sec\n",
            " ARIMA(0,0,0)(0,0,0)[0]             : AIC=32618.212, Time=3.15 sec\n",
            " ARIMA(1,0,1)(0,0,0)[0] intercept   : AIC=20930.546, Time=5.27 sec\n",
            "\n",
            "Best model:  ARIMA(0,0,0)(0,0,0)[0] intercept\n",
            "Total fit time: 26.941 seconds\n"
          ],
          "name": "stdout"
        }
      ]
    },
    {
      "cell_type": "code",
      "metadata": {
        "colab": {
          "base_uri": "https://localhost:8080/"
        },
        "id": "hSM94D7y8oSF",
        "outputId": "b2591ca1-a19f-48ad-e7c1-f8c0242e97dc"
      },
      "source": [
        "model.fit(train_data['VWAP'],train_data[ind_features])"
      ],
      "execution_count": 52,
      "outputs": [
        {
          "output_type": "execute_result",
          "data": {
            "text/plain": [
              "ARIMA(maxiter=50, method='lbfgs', order=(0, 0, 0), out_of_sample_size=0,\n",
              "      scoring='mse', scoring_args={}, seasonal_order=(0, 0, 0, 0),\n",
              "      start_params=None, suppress_warnings=True, trend=None,\n",
              "      with_intercept=True)"
            ]
          },
          "metadata": {
            "tags": []
          },
          "execution_count": 52
        }
      ]
    },
    {
      "cell_type": "code",
      "metadata": {
        "id": "nQjQoq0O9no2"
      },
      "source": [
        "forecast = model.predict(n_periods=len(test_data), exogenous=test_data[ind_features])\n",
        "\n",
        "test_data['Forecast_ARIMA'] = forecast "
      ],
      "execution_count": 53,
      "outputs": []
    },
    {
      "cell_type": "code",
      "metadata": {
        "colab": {
          "base_uri": "https://localhost:8080/",
          "height": 439
        },
        "id": "ehQAmibp-INN",
        "outputId": "013feebe-21ec-4f1b-9f92-4d1df7a48537"
      },
      "source": [
        "test_data[['VWAP', 'Forecast_ARIMA']].plot(figsize=(14,7))"
      ],
      "execution_count": 54,
      "outputs": [
        {
          "output_type": "execute_result",
          "data": {
            "text/plain": [
              "<matplotlib.axes._subplots.AxesSubplot at 0x7f8271915450>"
            ]
          },
          "metadata": {
            "tags": []
          },
          "execution_count": 54
        },
        {
          "output_type": "display_data",
          "data": {
            "image/png": "[encoded data removed]",
            "text/plain": [
              "<Figure size 1008x504 with 1 Axes>"
            ]
          },
          "metadata": {
            "tags": [],
            "needs_background": "light"
          }
        }
      ]
    },
    {
      "cell_type": "markdown",
      "metadata": {
        "id": "hGAe_4JC-Yll"
      },
      "source": [
        "* The Auto ARIMA model seems to do a fairly good job in predicting the stock price."
      ]
    },
    {
      "cell_type": "markdown",
      "metadata": {
        "id": "C_KCcyZd-kWR"
      },
      "source": [
        "### Performance metrics"
      ]
    },
    {
      "cell_type": "code",
      "metadata": {
        "colab": {
          "base_uri": "https://localhost:8080/"
        },
        "id": "smU7jeaP-RBN",
        "outputId": "13699b16-572f-4efa-9dfc-84c3f7b6bc7d"
      },
      "source": [
        "from sklearn.metrics import mean_absolute_error, mean_squared_error\n",
        "\n",
        "np.sqrt(mean_squared_error(test_data['VWAP'], test_data['Forecast_ARIMA']))"
      ],
      "execution_count": 55,
      "outputs": [
        {
          "output_type": "execute_result",
          "data": {
            "text/plain": [
              "183.34909955269697"
            ]
          },
          "metadata": {
            "tags": []
          },
          "execution_count": 55
        }
      ]
    },
    {
      "cell_type": "code",
      "metadata": {
        "colab": {
          "base_uri": "https://localhost:8080/"
        },
        "id": "bqx949-f-31l",
        "outputId": "f6d2e564-b3b3-4b07-9ac6-6fe62ff6c737"
      },
      "source": [
        "mean_absolute_error(test_data['VWAP'], test_data['Forecast_ARIMA'])"
      ],
      "execution_count": 56,
      "outputs": [
        {
          "output_type": "execute_result",
          "data": {
            "text/plain": [
              "122.31854416969666"
            ]
          },
          "metadata": {
            "tags": []
          },
          "execution_count": 56
        }
      ]
    },
    {
      "cell_type": "code",
      "metadata": {
        "id": "2cEsXC_x--Du"
      },
      "source": [
        ""
      ],
      "execution_count": null,
      "outputs": []
    }
  ]
}